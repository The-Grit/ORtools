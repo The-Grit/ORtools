{
 "cells": [
  {
   "cell_type": "code",
   "execution_count": null,
   "metadata": {
    "ExecuteTime": {
     "end_time": "2021-05-11T00:45:58.987160Z",
     "start_time": "2021-05-11T00:45:50.023850Z"
    }
   },
   "outputs": [],
   "source": [
    "import random \n",
    "import numpy as np\n",
    "import gurobipy as gp\n",
    "from gurobipy import GRB\n",
    "import pandas as pd \n",
    "import matplotlib.pyplot as plt"
   ]
  },
  {
   "cell_type": "markdown",
   "metadata": {},
   "source": [
    "# 1.1 Secretary: Stationary case"
   ]
  },
  {
   "cell_type": "markdown",
   "metadata": {},
   "source": [
    "## 1.1.1 generate offline data, online data "
   ]
  },
  {
   "cell_type": "code",
   "execution_count": null,
   "metadata": {
    "ExecuteTime": {
     "end_time": "2021-05-11T01:15:22.516691Z",
     "start_time": "2021-05-11T01:15:22.495742Z"
    }
   },
   "outputs": [],
   "source": [
    "# set parameter \n",
    "gamma = 200\n",
    "T = 1000\n",
    "\n",
    "# offline data\n",
    "randseq = np.random.randint(1, gamma+1, (1,T))/gamma \n",
    "\n",
    "# online data(multiple scenario)\n",
    "scenario=100\n",
    "replicate=1000\n",
    "scenarioList=np.random.randint(1, gamma+1, size=(scenario,gamma))/gamma"
   ]
  },
  {
   "cell_type": "code",
   "execution_count": null,
   "metadata": {
    "ExecuteTime": {
     "end_time": "2021-05-11T01:15:23.601563Z",
     "start_time": "2021-05-11T01:15:23.505265Z"
    }
   },
   "outputs": [],
   "source": [
    "# function for storing data\n",
    "def store(data,filename,index_name,column_name):\n",
    "    df=pd.DataFrame(data,index=index_name,columns=column_name)\n",
    "    df.to_csv(filename)"
   ]
  },
  {
   "cell_type": "code",
   "execution_count": null,
   "metadata": {},
   "outputs": [],
   "source": [
    "# store data\n",
    "store(randseq,'secretary/stationary/sec_stationary_offline_data.csv',['score'],[i for i in range(T)])\n",
    "store(scenarioList,'secretary/stationary/sec_stationary_scenario_data.csv',['scenario%d'%i for i in range(scenario)],[i for i in range(gamma)])"
   ]
  },
  {
   "cell_type": "markdown",
   "metadata": {},
   "source": [
    "## 1.1.2 O2O algorithm"
   ]
  },
  {
   "cell_type": "code",
   "execution_count": null,
   "metadata": {
    "ExecuteTime": {
     "end_time": "2021-05-11T02:00:08.675585Z",
     "start_time": "2021-05-11T02:00:08.629443Z"
    }
   },
   "outputs": [],
   "source": [
    "# function for implementing O2O\n",
    "def secretary(gamma,T,z,randseq,optimize,station,scenarioList):\n",
    "    theta = []\n",
    "    theta.append(np.array([0,0]))\n",
    "    grad = np.array([0,0])\n",
    "    # compute lower bound of phi\n",
    "    delta = 0.01 # probability parameter. lower delta means higher probability to hold but larger error gap\n",
    "    L = 2\n",
    "    K=2\n",
    "    philb = z-2*K*L*np.sqrt(2*np.log(2/delta)/T) \n",
    "    xt = []\n",
    "    for i in range(T):\n",
    "        x = 0 if theta[i][0]*randseq[0,i]+theta[i][1] >= 0 else 1 \n",
    "        xt.append(x)\n",
    "        f = np.array([x*randseq[0,i], x]) \n",
    "        # compute gradient\n",
    "        model = gp.Model('gradmodel')\n",
    "        w = model.addVars(2, ub=1.0, vtype=GRB.CONTINUOUS,name='w')\n",
    "        y = model.addVars(2, ub=1.0, vtype=GRB.CONTINUOUS,name='y')\n",
    "        model.setObjective(theta[i][0]*w[0]+theta[i][1]*w[1]-(w[0]-y[0])**2-(w[1]-y[1])**2, GRB.MAXIMIZE)\n",
    "        # use y to represent set S\n",
    "        model.addConstr(y[0]>=philb)\n",
    "        model.addConstr(y[1]==1/gamma)\n",
    "        model.optimize()\n",
    "        var = model.getVars()\n",
    "        if optimize=='gradient':\n",
    "            grad = np.array([var[0].x, var[1].x])-np.array([x*randseq[0,i], x])        \n",
    "            ita=L/(pow(8*K*(i+1),0.5))\n",
    "            new_theta = theta[i]-ita*grad\n",
    "            theta.append(new_theta)\n",
    "        else:\n",
    "            grad = grad + np.array([var[0].x, var[1].x])-np.array([x*randseq[0,i], x])\n",
    "            new_theta = -L*grad/max(np.sqrt(8*K*T),np.linalg.norm(grad))\n",
    "            theta.append(new_theta)\n",
    "    store(theta[1:],'secretary/%s/%s/sec_%s_%s_theta.csv'%(station,optimize,station,optimize),[i for i in range(T)],['theta0','theta1'])\n",
    "    # online replicate\n",
    "    scenario=len(scenarioList)\n",
    "    resultList=[[] for i in range(scenario)]\n",
    "    for i in range(scenario): \n",
    "        realseq=scenarioList[i]\n",
    "        for j in range(replicate): \n",
    "            # Online algorithm\n",
    "            index = np.random.randint(T, size = gamma) \n",
    "            counted=False\n",
    "            for k in range(gamma): \n",
    "                theta0 = theta[index[k]]\n",
    "                if theta0[0]*realseq[k]+theta0[1]<0:\n",
    "                    resultList[i].append(realseq[k])\n",
    "                    counted=True\n",
    "                    break\n",
    "            if not counted:\n",
    "                resultList[i].append(realseq[-1])\n",
    "        store(resultList,'secretary/%s/%s/sec_%s_%s_result.csv'%(station,optimize,station,optimize),['scenario'+str(i) for i in range(scenario)],[i for i in range(replicate)])\n",
    "\n",
    "    # bid price for decision\n",
    "    bid=[]\n",
    "    for i in theta[1:]:\n",
    "        bid.append(i[1]/(-i[0]))\n",
    "    bid=sorted(bid,reverse=True)\n",
    "    store(bid,'secretary/%s/%s/sec_%s_%s_bid.csv'%(station,optimize,station,optimize),[i for i in range(len(bid))],['bid price'])\n",
    "    \n",
    "    # hindsight\n",
    "    hindsight=[]\n",
    "    for i in range(scenario):\n",
    "        hindsight.append(max(scenarioList[i]))\n",
    "\n",
    "    # 1/e policy\n",
    "    point=int(gamma/np.e)+1\n",
    "    e_policy=[]\n",
    "    for i in range(scenario):\n",
    "        realseq=scenarioList[i]\n",
    "        pre_max=max(realseq[:point])\n",
    "        counted=False\n",
    "        for j in range(point,gamma):\n",
    "            if realseq[j]>pre_max:\n",
    "                e_policy.append(realseq[j])\n",
    "                counted=True\n",
    "                break\n",
    "        if not counted:\n",
    "            e_policy.append(realseq[-1])\n",
    "\n",
    "    # O2O\n",
    "    percent25=[]\n",
    "    percent75=[]\n",
    "    mean=[]\n",
    "    for i in range(scenario):\n",
    "        result=resultList[i]\n",
    "        percent25.append(np.percentile(result, 25))\n",
    "        percent75.append(np.percentile(result, 75))\n",
    "        mean.append(np.mean(result))\n",
    "\n",
    "    zipped = zip(e_policy,hindsight,percent25,percent75,mean)\n",
    "    sort_zipped=sorted(zipped,key=lambda x:x[0],reverse=True)\n",
    "    zip(*sort_zipped)\n",
    "    totalList=np.array(sort_zipped)\n",
    "    \n",
    "    # regret\n",
    "    regret=totalList[:,1]-totalList[:,4]\n",
    "    store(regret,'secretary/%s/%s/sec_%s_%s_regret.csv'%(station,optimize,station,optimize),[i for i in range(scenario)],['regret'])\n",
    "    xaxis=range(1,scenario+1)\n",
    "    fig, ax = plt.subplots() \n",
    "    ax.plot(xaxis, regret, 'r',label='Average regret') \n",
    "    ax.set_xlabel('scenario') \n",
    "    ax.set_ylabel('Regret Value')\n",
    "    ax.set_ylim(0,1.2)\n",
    "    ax.set_title('Regret of %s secretary problem under online %s descent'%(station,optimize)) \n",
    "    ax.legend() \n",
    "    fig.savefig('secretary/%s/%s/sec_%s_%s_regret'%(station,optimize,station,optimize) )\n",
    "\n",
    "    xaxis=range(1,scenario+1)\n",
    "    fig, ax = plt.subplots() \n",
    "    ax.plot(xaxis, totalList[:,1], 'r*-',label='Hindsight') \n",
    "    ax.plot(xaxis, totalList[:,0], 'b-',label='1/e Law Policy') \n",
    "    ax.plot(xaxis, totalList[:,2], 'g--',label='25-th quantile') \n",
    "    ax.plot(xaxis, totalList[:,4], 'k-',label='mean')\n",
    "    ax.plot(xaxis, totalList[:,3], 'g:',label='75-th quantile') \n",
    "    ax.set_xlabel('scenario') \n",
    "    ax.set_ylabel('Candidate Value')\n",
    "    ax.set_ylim(0,1.2)\n",
    "    ax.set_title('%s secretary problem by online %s descent'%(station,optimize)) \n",
    "    ax.legend() \n",
    "    fig.savefig('secretary/%s/%s/sec_%s_%s_result'%(station,optimize,station,optimize))"
   ]
  },
  {
   "cell_type": "code",
   "execution_count": null,
   "metadata": {
    "ExecuteTime": {
     "end_time": "2021-05-11T01:15:42.505303Z",
     "start_time": "2021-05-11T01:15:42.436489Z"
    }
   },
   "outputs": [],
   "source": [
    "# train theta offline\n",
    "\n",
    "# get upperbound using SAA, thus get programming only with constarint\n",
    "ub = []\n",
    "for i in range(T):\n",
    "    sampleseq = np.random.randint(1, gamma+1, gamma)/gamma\n",
    "    ub.append(max(sampleseq))\n",
    "z = sum(ub)/T\n",
    "store(z,'secretary/stationary/sec_stationary_z.csv',['z'],['value'])"
   ]
  },
  {
   "cell_type": "code",
   "execution_count": null,
   "metadata": {
    "ExecuteTime": {
     "end_time": "2021-05-11T01:37:45.213542Z",
     "start_time": "2021-05-11T01:36:19.487438Z"
    },
    "scrolled": true
   },
   "outputs": [],
   "source": [
    "# train by online gradient descent\n",
    "secretary(gamma,T,z,randseq,'gradient','stationary',scenarioList)"
   ]
  },
  {
   "cell_type": "code",
   "execution_count": null,
   "metadata": {
    "ExecuteTime": {
     "end_time": "2021-05-11T01:45:18.172870Z",
     "start_time": "2021-05-11T01:43:56.483931Z"
    }
   },
   "outputs": [],
   "source": [
    "# train by online mirror descent\n",
    "secretary(gamma,T,z,randseq,'mirror','stationary',scenarioList)"
   ]
  },
  {
   "cell_type": "markdown",
   "metadata": {},
   "source": [
    "# 1.2 Secretary: Non-stationary case"
   ]
  },
  {
   "cell_type": "markdown",
   "metadata": {},
   "source": [
    "## 1.1.1 generate offline data, online data"
   ]
  },
  {
   "cell_type": "code",
   "execution_count": null,
   "metadata": {
    "ExecuteTime": {
     "end_time": "2021-05-11T01:02:09.992976Z",
     "start_time": "2021-05-11T01:02:09.982008Z"
    }
   },
   "outputs": [],
   "source": [
    "def sec_nonstation_gen(gamma):\n",
    "    sampleseq=[]\n",
    "    for j in range(gamma):\n",
    "        rand_value=np.random.rand()\n",
    "        if rand_value>0.5:\n",
    "            sampleseq.append((gamma-j)/gamma)\n",
    "        else:\n",
    "            sampleseq.append(0)\n",
    "    return sampleseq"
   ]
  },
  {
   "cell_type": "code",
   "execution_count": null,
   "metadata": {
    "ExecuteTime": {
     "end_time": "2021-05-11T01:02:10.854795Z",
     "start_time": "2021-05-11T01:02:10.842828Z"
    }
   },
   "outputs": [],
   "source": [
    "def sec_singleGen(j,gamma):\n",
    "    rand_value=np.random.rand()\n",
    "    if rand_value>0.5:\n",
    "        return (gamma-j)/gamma\n",
    "    else:\n",
    "        return 0"
   ]
  },
  {
   "cell_type": "code",
   "execution_count": null,
   "metadata": {
    "ExecuteTime": {
     "end_time": "2021-05-11T02:02:34.281709Z",
     "start_time": "2021-05-11T02:02:34.082136Z"
    }
   },
   "outputs": [],
   "source": [
    "# set parameter \n",
    "gamma = 200\n",
    "T = 1000\n",
    "\n",
    "# offline data\n",
    "randseq = []\n",
    "for i in range(T):\n",
    "    ind=np.random.randint(gamma)\n",
    "    randseq.append(sec_singleGen(ind,gamma))\n",
    "randseq=np.array(randseq).reshape(1,T)\n",
    "store(randseq,'secretary/nonstationary/sec_nonstationary_offline_data.csv',['score'],[i for i in range(T)])\n",
    "\n",
    "# online data(multiple scenario)\n",
    "scenario=100\n",
    "replicate=1000\n",
    "scenarioList=[]\n",
    "for i in range(scenario):\n",
    "    scenarioList.append(sec_nonstation_gen(gamma))\n",
    "store(scenarioList,'secretary/nonstationary/sec_nonstationary_scenario_data.csv',['scenario%d'%i for i in range(scenario)],[i for i in range(gamma)])\n",
    "\n",
    "# upper bound\n",
    "ub = []\n",
    "for i in range(T):\n",
    "    sampleseq=sec_nonstation_gen(gamma)\n",
    "    ub.append(max(sampleseq))\n",
    "z = sum(ub)/T \n",
    "store(z,'secretary/nonstationary/sec_nonstationary_z.csv',['z'],['value'])"
   ]
  },
  {
   "cell_type": "markdown",
   "metadata": {},
   "source": [
    "## 1.1.2 O2O algorithm"
   ]
  },
  {
   "cell_type": "code",
   "execution_count": null,
   "metadata": {
    "ExecuteTime": {
     "end_time": "2021-05-11T02:03:53.934632Z",
     "start_time": "2021-05-11T02:02:38.740553Z"
    }
   },
   "outputs": [],
   "source": [
    "# train by online gradient descent\n",
    "secretary(gamma,T,z,randseq,'gradient','nonstationary',scenarioList)"
   ]
  },
  {
   "cell_type": "code",
   "execution_count": null,
   "metadata": {
    "ExecuteTime": {
     "end_time": "2021-05-11T02:05:38.041173Z",
     "start_time": "2021-05-11T02:04:26.463832Z"
    },
    "scrolled": true
   },
   "outputs": [],
   "source": [
    "# train by online mirror descent\n",
    "secretary(gamma,T,z,randseq,'mirror','nonstationary',scenarioList)"
   ]
  },
  {
   "cell_type": "markdown",
   "metadata": {},
   "source": [
    "# 2.1 Resource allocation:case 1"
   ]
  },
  {
   "cell_type": "markdown",
   "metadata": {},
   "source": [
    "## 2.1.1 generate online data, offline data"
   ]
  },
  {
   "cell_type": "code",
   "execution_count": null,
   "metadata": {
    "ExecuteTime": {
     "end_time": "2021-05-11T02:26:15.631227Z",
     "start_time": "2021-05-11T02:26:15.089394Z"
    }
   },
   "outputs": [],
   "source": [
    "# set parameter\n",
    "T = 10000\n",
    "gamma = 2000\n",
    "lamb = np.array([[9, 18, 27], [3, 6, 9]])\n",
    "miu = lamb[0]/2+lamb[1]/2\n",
    "beta = np.array([0.85, 0.9, 0.95])\n",
    "product = np.multiply(miu, beta)\n",
    "cstar=50\n",
    "\n",
    "# offline data\n",
    "off_demand=[]\n",
    "for i in range(T):\n",
    "    # choose period\n",
    "    index = np.random.randint(0,2)\n",
    "    samplamd = lamb[index]\n",
    "    off_demand.append(np.random.poisson(lam = samplamd, size = 3))\n",
    "off_demand=np.array(off_demand).T\n",
    "store(off_demand,'resource/case1/case1_offline.csv',['customer'+str(i) for i in range(3)],[i for i in range(T)])\n",
    "\n",
    "# online data\n",
    "online_demand=[]\n",
    "for i in range(gamma):\n",
    "    index = np.random.randint(0,2)\n",
    "    index = 0 if i <=gamma/2 else 1\n",
    "    reallamb = lamb[index]\n",
    "    online_demand.append(np.random.poisson(lam = reallamb, size = 3))\n",
    "online_demand=np.array(online_demand).T\n",
    "store(online_demand,'resource/case1/case1_online.csv',['customer'+str(i) for i in range(3)],[i for i in range(gamma)])"
   ]
  },
  {
   "cell_type": "markdown",
   "metadata": {},
   "source": [
    "## 2.1.2 O2O algorithm"
   ]
  },
  {
   "cell_type": "code",
   "execution_count": null,
   "metadata": {
    "ExecuteTime": {
     "end_time": "2021-05-11T04:27:49.030882Z",
     "start_time": "2021-05-11T04:27:49.006945Z"
    }
   },
   "outputs": [],
   "source": [
    "def resource(off_demand,online_demand,T,gamma,beta,product,cstar,case,optimize):\n",
    "    # offline\n",
    "    L=2\n",
    "    K=3\n",
    "    delta = 0.01 \n",
    "    theta = []\n",
    "    theta.append(np.array([1,1,1]))\n",
    "    grad = np.array([0,0,0])\n",
    "    for i in range(T):\n",
    "        demand = off_demand[:,i]\n",
    "        # solve the CPS\n",
    "        model = gp.Model('gradmodel')\n",
    "        x = model.addVars(3, ub=demand, vtype=GRB.CONTINUOUS,name='x')\n",
    "        model.setObjective(-np.dot(theta[i], product)+(theta[i][0]*(x[0])+theta[i][1]*(x[1])+theta[i][2]*(x[2])), GRB.MAXIMIZE)\n",
    "        model.addConstr(x[0]+x[1]+x[2]<=cstar)\n",
    "        model.optimize()\n",
    "        var = model.getVars()\n",
    "        # compute gradient\n",
    "        if optimize=='gradient':\n",
    "            grad=np.array([var[0].x, var[1].x, var[2].x])-product\n",
    "            ita=L/(pow(8*K*(i+1),0.5))\n",
    "            new_theta=theta[i]-ita*grad\n",
    "            theta.append(new_theta)\n",
    "        else:\n",
    "            grad = grad + np.array([var[0].x, var[1].x, var[2].x])-product\n",
    "            delta = -1/max(np.sqrt(8*K*T), np.linalg.norm(grad))\n",
    "            theta.append(delta*grad)\n",
    "    store(theta[1:],'resource/%s/%s/res_%s_%s_theta.csv'%(case,optimize,case,optimize),[i for i in range(T)],['customer'+str(i) for i in range(K)])\n",
    "    \n",
    "    # priority list\n",
    "    priority=[]\n",
    "    for weight in theta:\n",
    "        prior_oder = np.argsort(-weight)\n",
    "        priority.append(prior_oder)\n",
    "    store(priority[1:],'resource/%s/%s/res_%s_%s_prio.csv'%(case,optimize,case,optimize),[i for i in range(T)],['order'+str(i) for i in range(K)])\n",
    "    \n",
    "    \n",
    "    # online \n",
    "    xt = []\n",
    "    rate = []\n",
    "    indexseq = np.random.randint(gamma, size = gamma)\n",
    "    demand=[]\n",
    "    for i in range(gamma):\n",
    "        thetat = theta[indexseq[i]]\n",
    "        realdemand = online_demand[:,i]\n",
    "        demand.append(realdemand)\n",
    "        model = gp.Model('onlinemodel')\n",
    "        x = model.addVars(3, ub=realdemand, vtype=GRB.CONTINUOUS,name='x')\n",
    "        model.setObjective(-np.dot(thetat, product)+(thetat[0]*(x[0])+thetat[1]*(x[1])+thetat[2]*(x[2])), GRB.MAXIMIZE)\n",
    "        model.addConstr(x[0]+x[1]+x[2]<=cstar)\n",
    "        model.optimize()\n",
    "        xt.append(np.array([x[0].x, x[1].x, x[2].x]))    \n",
    "        rate.append(sum(xt)/sum(demand))\n",
    "    shortage=[]\n",
    "    for i in range(gamma):\n",
    "        shortage.append(np.maximum(0,beta-rate[i]))\n",
    "    store(xt,'resource/%s/%s/res_%s_%s_result.csv'%(case,optimize,case,optimize),[i for i in range(gamma)],['customer'+str(i) for i in range(K)])\n",
    "    store(rate,'resource/%s/%s/res_%s_%s_rate.csv'%(case,optimize,case,optimize),[i for i in range(gamma)],['customer'+str(i) for i in range(K)])\n",
    "    store(shortage,'resource/%s/%s/res_%s_%s_shortage.csv'%(case,optimize,case,optimize),[i for i in range(gamma)],['customer'+str(i) for i in range(K)])\n",
    "    \n",
    "    # plot\n",
    "    xaxis=range(gamma)\n",
    "    rate=np.array(rate)\n",
    "    fig,ax=plt.subplots()\n",
    "    ax.plot(xaxis, rate[:,0], 'r-',label='customer1,beta=%s'%beta[0]) \n",
    "    ax.plot(xaxis, rate[:,1], 'b:',label='customer2,beta=%s'%beta[1]) \n",
    "    ax.plot(xaxis, rate[:,2], 'k--',label='customer3,beta=%s'%beta[2]) \n",
    "    ax.plot(gamma-1,beta[0],'ro')\n",
    "    ax.plot(gamma-1,beta[1],'bo')\n",
    "    ax.plot(gamma-1,beta[2],'ko')\n",
    "    ax.set_xlabel('period') \n",
    "    ax.set_ylabel('Attained fill rate')\n",
    "    ax.set_ylim(0,1.1)\n",
    "    ax.set_title('Attained fill rate of %s under online %s descent'%(case,optimize)) \n",
    "    ax.legend() \n",
    "    fig.savefig('resource/%s/%s/rate_%s_%s'%(case,optimize,case,optimize))\n",
    "    \n",
    "    shortage=np.array(shortage)\n",
    "    fig,ax=plt.subplots()\n",
    "    ax.plot(xaxis, shortage[:,0], 'r-',label='customer1,beta=%s'%beta[0]) \n",
    "    ax.plot(xaxis, shortage[:,1], 'b:',label='customer2,beta=%s'%beta[1]) \n",
    "    ax.plot(xaxis, shortage[:,2], 'k--',label='customer3,beta=%s'%beta[2]) \n",
    "    ax.set_xlabel('period') \n",
    "    ax.set_ylabel('Fill rate gap')\n",
    "    ax.set_ylim(0,1.1)\n",
    "    ax.set_title('Fill rate gap of %s under online %s descent'%(case,optimize)) \n",
    "    ax.legend() \n",
    "    fig.savefig('resource/%s/%s/shortage_%s_%s'%(case,optimize,case,optimize))"
   ]
  },
  {
   "cell_type": "code",
   "execution_count": null,
   "metadata": {
    "ExecuteTime": {
     "end_time": "2021-05-11T04:32:30.486337Z",
     "start_time": "2021-05-11T04:28:01.929273Z"
    },
    "scrolled": true
   },
   "outputs": [],
   "source": [
    "# online gradient descent\n",
    "resource(off_demand,online_demand,T,gamma,beta,product,cstar,'case1','gradient')"
   ]
  },
  {
   "cell_type": "code",
   "execution_count": null,
   "metadata": {
    "ExecuteTime": {
     "end_time": "2021-05-11T04:41:57.915306Z",
     "start_time": "2021-05-11T04:37:24.493600Z"
    }
   },
   "outputs": [],
   "source": [
    "# online mirror descent\n",
    "resource(off_demand,online_demand,T,gamma,beta,product,cstar,'case1','mirror')"
   ]
  },
  {
   "cell_type": "markdown",
   "metadata": {},
   "source": [
    "# 2.2 Resource allocation:case 2"
   ]
  },
  {
   "cell_type": "markdown",
   "metadata": {},
   "source": [
    "## 2.2.1 generate data"
   ]
  },
  {
   "cell_type": "code",
   "execution_count": null,
   "metadata": {
    "ExecuteTime": {
     "end_time": "2021-05-11T04:48:09.804576Z",
     "start_time": "2021-05-11T04:48:09.280778Z"
    }
   },
   "outputs": [],
   "source": [
    "# set parameter\n",
    "T = 10000\n",
    "gamma = 2000\n",
    "lamb = np.array([[3, 6, 9],[9, 18, 27]])\n",
    "miu = lamb[0]/2+lamb[1]/2\n",
    "beta = np.array([0.85, 0.9, 0.95])\n",
    "product = np.multiply(miu, beta)\n",
    "cstar=50\n",
    "\n",
    "# offline data\n",
    "off_demand=[]\n",
    "for i in range(T):\n",
    "    # choose period\n",
    "    index = np.random.randint(0,2)\n",
    "    samplamd = lamb[index]\n",
    "    off_demand.append(np.random.poisson(lam = samplamd, size = 3))\n",
    "off_demand=np.array(off_demand).T\n",
    "store(off_demand,'resource/case2/case2_offline.csv',['customer'+str(i) for i in range(3)],[i for i in range(T)])\n",
    "\n",
    "# online data\n",
    "online_demand=[]\n",
    "for i in range(gamma):\n",
    "    index = np.random.randint(0,2)\n",
    "    index = 0 if i <=gamma/2 else 1\n",
    "    reallamb = lamb[index]\n",
    "    online_demand.append(np.random.poisson(lam = reallamb, size = 3))\n",
    "online_demand=np.array(online_demand).T\n",
    "store(online_demand,'resource/case2/case2_online.csv',['customer'+str(i) for i in range(3)],[i for i in range(gamma)])"
   ]
  },
  {
   "cell_type": "markdown",
   "metadata": {},
   "source": [
    "## 2.2.2 O2O algorithm"
   ]
  },
  {
   "cell_type": "code",
   "execution_count": null,
   "metadata": {
    "ExecuteTime": {
     "end_time": "2021-05-11T04:54:06.294304Z",
     "start_time": "2021-05-11T04:49:10.643223Z"
    }
   },
   "outputs": [],
   "source": [
    "# online gradient descent\n",
    "resource(off_demand,online_demand,T,gamma,beta,product,cstar,'case2','gradient')"
   ]
  },
  {
   "cell_type": "code",
   "execution_count": null,
   "metadata": {
    "ExecuteTime": {
     "end_time": "2021-05-11T05:00:10.328974Z",
     "start_time": "2021-05-11T04:56:09.003541Z"
    }
   },
   "outputs": [],
   "source": [
    "# online mirror descent\n",
    "resource(off_demand,online_demand,T,gamma,beta,product,cstar,'case2','mirror')"
   ]
  },
  {
   "cell_type": "code",
   "execution_count": null,
   "metadata": {},
   "outputs": [],
   "source": []
  }
 ],
 "metadata": {
  "kernelspec": {
   "display_name": "Python 3",
   "language": "python",
   "name": "python3"
  },
  "language_info": {
   "codemirror_mode": {
    "name": "ipython",
    "version": 3
   },
   "file_extension": ".py",
   "mimetype": "text/x-python",
   "name": "python",
   "nbconvert_exporter": "python",
   "pygments_lexer": "ipython3",
   "version": "3.6.5"
  }
 },
 "nbformat": 4,
 "nbformat_minor": 4
}
